{
 "cells": [
  {
   "cell_type": "markdown",
   "metadata": {},
   "source": [
    "# FLASK"
   ]
  },
  {
   "cell_type": "code",
   "execution_count": null,
   "metadata": {},
   "outputs": [
    {
     "name": "stdout",
     "output_type": "stream",
     "text": [
      " * Serving Flask app \"__main__\" (lazy loading)\n",
      " * Environment: production\n",
      "   WARNING: This is a development server. Do not use it in a production deployment.\n",
      "   Use a production WSGI server instead.\n",
      " * Debug mode: off\n"
     ]
    },
    {
     "name": "stderr",
     "output_type": "stream",
     "text": [
      " * Running on http://127.0.0.1:5000/ (Press CTRL+C to quit)\n",
      "127.0.0.1 - - [30/Mar/2020 15:12:23] \"\u001b[37mGET / HTTP/1.1\u001b[0m\" 200 -\n"
     ]
    },
    {
     "name": "stdout",
     "output_type": "stream",
     "text": [
      "oui\n"
     ]
    },
    {
     "name": "stderr",
     "output_type": "stream",
     "text": [
      "C:\\Users\\axeld\\Anaconda3\\lib\\site-packages\\scipy\\stats\\_distn_infrastructure.py:899: RuntimeWarning: invalid value encountered in greater_equal\n",
      "  return (a <= x) & (x <= b)\n",
      "C:\\Users\\axeld\\Anaconda3\\lib\\site-packages\\scipy\\stats\\_distn_infrastructure.py:899: RuntimeWarning: invalid value encountered in less_equal\n",
      "  return (a <= x) & (x <= b)\n",
      "127.0.0.1 - - [30/Mar/2020 15:12:29] \"\u001b[37mPOST / HTTP/1.1\u001b[0m\" 200 -\n",
      "127.0.0.1 - - [30/Mar/2020 15:12:29] \"\u001b[37mGET / HTTP/1.1\u001b[0m\" 200 -\n"
     ]
    }
   ],
   "source": [
    "# -*- coding: utf-8 -*-\n",
    "import urllib.request, json, requests\n",
    "import pandas as pd\n",
    "import numpy as np\n",
    "from scipy.stats import norm\n",
    "from flask import Flask, request, render_template, jsonify\n",
    "app = Flask(__name__)\n",
    "\n",
    "# import functions\n",
    "from all_functions import *\n",
    "\n",
    "\n",
    "\n",
    "#################### Load Prices Data #####################\n",
    "prices = pd.read_pickle('data/station_price_full.pkl')\n",
    "\n",
    "\n",
    "#################### Page d'accueil #####################\n",
    "@app.route('/')\n",
    "def home():\n",
    "    return render_template(\"index.html\")\n",
    "\n",
    "################### Page avec la carte ##################\n",
    "@app.route('/', methods=['POST'])\n",
    "def show_map():\n",
    "    #Coordonneeshttp://localhost:8888/notebooks/Documents/Work/Centrale/CodePython/HugZer%20Clean/FLASK.ipynb#\n",
    "    adress = request.form['text_id']\n",
    "    reponse = request.form['question']\n",
    "    coord = get_coordonnees(adress)\n",
    "    print(reponse)\n",
    "    #Scores des stations\n",
    "    df = get_station(coord, prices)\n",
    "    \n",
    "    #Meilleur Scores\n",
    "    df2 = meilleur_score(df, adress)\n",
    "        \n",
    "    #Renvoi du template HTML, avec la variable JSON\n",
    "    return render_template(\"map.html\",\n",
    "                           coordinates = invert_coord(coord),\n",
    "                           result = df,\n",
    "                          result2 = df2,\n",
    "                          adresse = adress,\n",
    "                          oui = reponse)\n",
    "\n",
    "\n",
    "################### RUN DE L'APP #########################\n",
    "if __name__ == \"__main__\":\n",
    "    app.run()"
   ]
  },
  {
   "cell_type": "code",
   "execution_count": null,
   "metadata": {},
   "outputs": [],
   "source": []
  },
  {
   "cell_type": "code",
   "execution_count": null,
   "metadata": {},
   "outputs": [],
   "source": []
  }
 ],
 "metadata": {
  "kernelspec": {
   "display_name": "Python 3",
   "language": "python",
   "name": "python3"
  },
  "language_info": {
   "codemirror_mode": {
    "name": "ipython",
    "version": 3
   },
   "file_extension": ".py",
   "mimetype": "text/x-python",
   "name": "python",
   "nbconvert_exporter": "python",
   "pygments_lexer": "ipython3",
   "version": "3.6.9"
  }
 },
 "nbformat": 4,
 "nbformat_minor": 2
}
