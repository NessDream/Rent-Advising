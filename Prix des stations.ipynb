{
 "cells": [
  {
   "cell_type": "markdown",
   "metadata": {},
   "source": [
    "# Prix des stations "
   ]
  },
  {
   "cell_type": "code",
   "execution_count": 1,
   "metadata": {},
   "outputs": [],
   "source": [
    "import urllib.request, json, requests\n",
    "import pandas as pd\n",
    "import numpy as np\n",
    "import unicodedata\n",
    "from scipy.stats import norm\n",
    "\n",
    "\n",
    "from all_functions import *"
   ]
  },
  {
   "cell_type": "markdown",
   "metadata": {},
   "source": [
    "### 1. Prix des stations de Métro :"
   ]
  },
  {
   "cell_type": "code",
   "execution_count": 2,
   "metadata": {},
   "outputs": [],
   "source": [
    "import time\n",
    "import re"
   ]
  },
  {
   "cell_type": "code",
   "execution_count": 3,
   "metadata": {},
   "outputs": [],
   "source": [
    "adresse = \"51, rue de la harpe Paris\""
   ]
  },
  {
   "cell_type": "markdown",
   "metadata": {},
   "source": [
    "On enregistre le prix des stations de métro à moins de 1h du centre de Paris (chez JayZer)"
   ]
  },
  {
   "cell_type": "code",
   "execution_count": 4,
   "metadata": {},
   "outputs": [],
   "source": [
    "def get_station_price(coordonnees, temps_max=3600) :\n",
    "    navitia_url = str('https://api.navitia.io/v1/coverage/fr-idf/journeys?from='\n",
    "                      +str(coordonnees[0])+';'+str(coordonnees[1])\n",
    "                      +'&max_duration='+str(temps_max))#+\"&allowed_id[]=physical_mode:Metro&allowed_id[]=physical_mode:RER\"\n",
    "    navitia_token = '4e8a1312-13a2-4fb8-9e98-aa9cd51b6a11'\n",
    "    time_json = requests.get(navitia_url, headers={'Authorization': navitia_token})\n",
    "    time = ''\n",
    "    for line in time_json :\n",
    "        time += line.decode().strip()\n",
    "    dictio = json.loads(time)\n",
    "    \n",
    "    name_station, price, coord_station, long, lat = [[] for i in range(5)]\n",
    "    \n",
    "    for i in range(len(dictio[\"journeys\"])):\n",
    "        name_station.append(dictio[\"journeys\"][i][\"to\"][\"name\"])\n",
    "        long.append(dictio[\"journeys\"][i][\"to\"][\"stop_point\"][\"coord\"][\"lon\"])\n",
    "        lat.append(dictio[\"journeys\"][i][\"to\"][\"stop_point\"][\"coord\"][\"lat\"])\n",
    "        price.append(get_price([long[i], lat[i]]))\n",
    "        \n",
    "    coord_station = [invert_coord(coord) for coord in coord_station]\n",
    "        \n",
    "    df = pd.DataFrame(list(zip(name_station, price, long, lat)),\n",
    "                      columns=[\"name_station\", \"price\", \"long\", \"lat\"])\n",
    "    return(df)"
   ]
  },
  {
   "cell_type": "markdown",
   "metadata": {},
   "source": [
    "<div class=\"alert alert-info\">\n",
    "Le fameux test"
   ]
  },
  {
   "cell_type": "code",
   "execution_count": 5,
   "metadata": {},
   "outputs": [],
   "source": [
    "start = time.time()"
   ]
  },
  {
   "cell_type": "code",
   "execution_count": 6,
   "metadata": {},
   "outputs": [
    {
     "ename": "KeyboardInterrupt",
     "evalue": "",
     "output_type": "error",
     "traceback": [
      "\u001b[0;31m---------------------------------------------------------------------------\u001b[0m",
      "\u001b[0;31mKeyboardInterrupt\u001b[0m                         Traceback (most recent call last)",
      "\u001b[0;32m<ipython-input-6-d7dfabd82983>\u001b[0m in \u001b[0;36m<module>\u001b[0;34m\u001b[0m\n\u001b[1;32m      1\u001b[0m \u001b[0madresse\u001b[0m \u001b[0;34m=\u001b[0m \u001b[0;34m\"51, rue de la harpe Paris\"\u001b[0m\u001b[0;34m\u001b[0m\u001b[0;34m\u001b[0m\u001b[0m\n\u001b[1;32m      2\u001b[0m \u001b[0mcoord\u001b[0m \u001b[0;34m=\u001b[0m \u001b[0mget_coordonnees\u001b[0m\u001b[0;34m(\u001b[0m\u001b[0madresse\u001b[0m\u001b[0;34m)\u001b[0m\u001b[0;34m\u001b[0m\u001b[0;34m\u001b[0m\u001b[0m\n\u001b[0;32m----> 3\u001b[0;31m \u001b[0mdf\u001b[0m \u001b[0;34m=\u001b[0m \u001b[0mget_station_price\u001b[0m\u001b[0;34m(\u001b[0m\u001b[0mcoord\u001b[0m\u001b[0;34m)\u001b[0m\u001b[0;34m\u001b[0m\u001b[0;34m\u001b[0m\u001b[0m\n\u001b[0m",
      "\u001b[0;32m<ipython-input-4-ba5d4d8bf5dc>\u001b[0m in \u001b[0;36mget_station_price\u001b[0;34m(coordonnees, temps_max)\u001b[0m\n\u001b[1;32m     16\u001b[0m         \u001b[0mlong\u001b[0m\u001b[0;34m.\u001b[0m\u001b[0mappend\u001b[0m\u001b[0;34m(\u001b[0m\u001b[0mdictio\u001b[0m\u001b[0;34m[\u001b[0m\u001b[0;34m\"journeys\"\u001b[0m\u001b[0;34m]\u001b[0m\u001b[0;34m[\u001b[0m\u001b[0mi\u001b[0m\u001b[0;34m]\u001b[0m\u001b[0;34m[\u001b[0m\u001b[0;34m\"to\"\u001b[0m\u001b[0;34m]\u001b[0m\u001b[0;34m[\u001b[0m\u001b[0;34m\"stop_point\"\u001b[0m\u001b[0;34m]\u001b[0m\u001b[0;34m[\u001b[0m\u001b[0;34m\"coord\"\u001b[0m\u001b[0;34m]\u001b[0m\u001b[0;34m[\u001b[0m\u001b[0;34m\"lon\"\u001b[0m\u001b[0;34m]\u001b[0m\u001b[0;34m)\u001b[0m\u001b[0;34m\u001b[0m\u001b[0;34m\u001b[0m\u001b[0m\n\u001b[1;32m     17\u001b[0m         \u001b[0mlat\u001b[0m\u001b[0;34m.\u001b[0m\u001b[0mappend\u001b[0m\u001b[0;34m(\u001b[0m\u001b[0mdictio\u001b[0m\u001b[0;34m[\u001b[0m\u001b[0;34m\"journeys\"\u001b[0m\u001b[0;34m]\u001b[0m\u001b[0;34m[\u001b[0m\u001b[0mi\u001b[0m\u001b[0;34m]\u001b[0m\u001b[0;34m[\u001b[0m\u001b[0;34m\"to\"\u001b[0m\u001b[0;34m]\u001b[0m\u001b[0;34m[\u001b[0m\u001b[0;34m\"stop_point\"\u001b[0m\u001b[0;34m]\u001b[0m\u001b[0;34m[\u001b[0m\u001b[0;34m\"coord\"\u001b[0m\u001b[0;34m]\u001b[0m\u001b[0;34m[\u001b[0m\u001b[0;34m\"lat\"\u001b[0m\u001b[0;34m]\u001b[0m\u001b[0;34m)\u001b[0m\u001b[0;34m\u001b[0m\u001b[0;34m\u001b[0m\u001b[0m\n\u001b[0;32m---> 18\u001b[0;31m         \u001b[0mprice\u001b[0m\u001b[0;34m.\u001b[0m\u001b[0mappend\u001b[0m\u001b[0;34m(\u001b[0m\u001b[0mget_price\u001b[0m\u001b[0;34m(\u001b[0m\u001b[0;34m[\u001b[0m\u001b[0mlong\u001b[0m\u001b[0;34m[\u001b[0m\u001b[0mi\u001b[0m\u001b[0;34m]\u001b[0m\u001b[0;34m,\u001b[0m \u001b[0mlat\u001b[0m\u001b[0;34m[\u001b[0m\u001b[0mi\u001b[0m\u001b[0;34m]\u001b[0m\u001b[0;34m]\u001b[0m\u001b[0;34m)\u001b[0m\u001b[0;34m)\u001b[0m\u001b[0;34m\u001b[0m\u001b[0;34m\u001b[0m\u001b[0m\n\u001b[0m\u001b[1;32m     19\u001b[0m \u001b[0;34m\u001b[0m\u001b[0m\n\u001b[1;32m     20\u001b[0m     \u001b[0mcoord_station\u001b[0m \u001b[0;34m=\u001b[0m \u001b[0;34m[\u001b[0m\u001b[0minvert_coord\u001b[0m\u001b[0;34m(\u001b[0m\u001b[0mcoord\u001b[0m\u001b[0;34m)\u001b[0m \u001b[0;32mfor\u001b[0m \u001b[0mcoord\u001b[0m \u001b[0;32min\u001b[0m \u001b[0mcoord_station\u001b[0m\u001b[0;34m]\u001b[0m\u001b[0;34m\u001b[0m\u001b[0;34m\u001b[0m\u001b[0m\n",
      "\u001b[0;32m~/Documents/Work/Centrale/CodePython/HugZer Clean/all_functions.py\u001b[0m in \u001b[0;36mget_price\u001b[0;34m(coordonnees, area)\u001b[0m\n\u001b[1;32m     28\u001b[0m     fhandbefD = urllib.request.urlopen('http://api.cquest.org/dvf?lat='+ str(coordonnees[1])\n\u001b[1;32m     29\u001b[0m                                        + '&lon='+ str(coordonnees[0]) + '&dist='+str(area))\n\u001b[0;32m---> 30\u001b[0;31m     \u001b[0;32mfor\u001b[0m \u001b[0mline\u001b[0m \u001b[0;32min\u001b[0m \u001b[0mfhandbefD\u001b[0m \u001b[0;34m:\u001b[0m\u001b[0;34m\u001b[0m\u001b[0;34m\u001b[0m\u001b[0m\n\u001b[0m\u001b[1;32m     31\u001b[0m         \u001b[0mfhandD\u001b[0m \u001b[0;34m+=\u001b[0m \u001b[0mline\u001b[0m\u001b[0;34m.\u001b[0m\u001b[0mdecode\u001b[0m\u001b[0;34m(\u001b[0m\u001b[0;34m)\u001b[0m\u001b[0;34m.\u001b[0m\u001b[0mstrip\u001b[0m\u001b[0;34m(\u001b[0m\u001b[0;34m)\u001b[0m\u001b[0;34m\u001b[0m\u001b[0;34m\u001b[0m\u001b[0m\n\u001b[1;32m     32\u001b[0m     \u001b[0mdictio\u001b[0m \u001b[0;34m=\u001b[0m \u001b[0mjson\u001b[0m\u001b[0;34m.\u001b[0m\u001b[0mloads\u001b[0m\u001b[0;34m(\u001b[0m\u001b[0mfhandD\u001b[0m\u001b[0;34m)\u001b[0m\u001b[0;34m\u001b[0m\u001b[0;34m\u001b[0m\u001b[0m\n",
      "\u001b[0;32m~/opt/anaconda3/lib/python3.7/http/client.py\u001b[0m in \u001b[0;36mreadline\u001b[0;34m(self, limit)\u001b[0m\n\u001b[1;32m    675\u001b[0m         \u001b[0;32mif\u001b[0m \u001b[0mself\u001b[0m\u001b[0;34m.\u001b[0m\u001b[0mlength\u001b[0m \u001b[0;32mis\u001b[0m \u001b[0;32mnot\u001b[0m \u001b[0;32mNone\u001b[0m \u001b[0;32mand\u001b[0m \u001b[0;34m(\u001b[0m\u001b[0mlimit\u001b[0m \u001b[0;34m<\u001b[0m \u001b[0;36m0\u001b[0m \u001b[0;32mor\u001b[0m \u001b[0mlimit\u001b[0m \u001b[0;34m>\u001b[0m \u001b[0mself\u001b[0m\u001b[0;34m.\u001b[0m\u001b[0mlength\u001b[0m\u001b[0;34m)\u001b[0m\u001b[0;34m:\u001b[0m\u001b[0;34m\u001b[0m\u001b[0;34m\u001b[0m\u001b[0m\n\u001b[1;32m    676\u001b[0m             \u001b[0mlimit\u001b[0m \u001b[0;34m=\u001b[0m \u001b[0mself\u001b[0m\u001b[0;34m.\u001b[0m\u001b[0mlength\u001b[0m\u001b[0;34m\u001b[0m\u001b[0;34m\u001b[0m\u001b[0m\n\u001b[0;32m--> 677\u001b[0;31m         \u001b[0mresult\u001b[0m \u001b[0;34m=\u001b[0m \u001b[0mself\u001b[0m\u001b[0;34m.\u001b[0m\u001b[0mfp\u001b[0m\u001b[0;34m.\u001b[0m\u001b[0mreadline\u001b[0m\u001b[0;34m(\u001b[0m\u001b[0mlimit\u001b[0m\u001b[0;34m)\u001b[0m\u001b[0;34m\u001b[0m\u001b[0;34m\u001b[0m\u001b[0m\n\u001b[0m\u001b[1;32m    678\u001b[0m         \u001b[0;32mif\u001b[0m \u001b[0;32mnot\u001b[0m \u001b[0mresult\u001b[0m \u001b[0;32mand\u001b[0m \u001b[0mlimit\u001b[0m\u001b[0;34m:\u001b[0m\u001b[0;34m\u001b[0m\u001b[0;34m\u001b[0m\u001b[0m\n\u001b[1;32m    679\u001b[0m             \u001b[0mself\u001b[0m\u001b[0;34m.\u001b[0m\u001b[0m_close_conn\u001b[0m\u001b[0;34m(\u001b[0m\u001b[0;34m)\u001b[0m\u001b[0;34m\u001b[0m\u001b[0;34m\u001b[0m\u001b[0m\n",
      "\u001b[0;32m~/opt/anaconda3/lib/python3.7/socket.py\u001b[0m in \u001b[0;36mreadinto\u001b[0;34m(self, b)\u001b[0m\n\u001b[1;32m    587\u001b[0m         \u001b[0;32mwhile\u001b[0m \u001b[0;32mTrue\u001b[0m\u001b[0;34m:\u001b[0m\u001b[0;34m\u001b[0m\u001b[0;34m\u001b[0m\u001b[0m\n\u001b[1;32m    588\u001b[0m             \u001b[0;32mtry\u001b[0m\u001b[0;34m:\u001b[0m\u001b[0;34m\u001b[0m\u001b[0;34m\u001b[0m\u001b[0m\n\u001b[0;32m--> 589\u001b[0;31m                 \u001b[0;32mreturn\u001b[0m \u001b[0mself\u001b[0m\u001b[0;34m.\u001b[0m\u001b[0m_sock\u001b[0m\u001b[0;34m.\u001b[0m\u001b[0mrecv_into\u001b[0m\u001b[0;34m(\u001b[0m\u001b[0mb\u001b[0m\u001b[0;34m)\u001b[0m\u001b[0;34m\u001b[0m\u001b[0;34m\u001b[0m\u001b[0m\n\u001b[0m\u001b[1;32m    590\u001b[0m             \u001b[0;32mexcept\u001b[0m \u001b[0mtimeout\u001b[0m\u001b[0;34m:\u001b[0m\u001b[0;34m\u001b[0m\u001b[0;34m\u001b[0m\u001b[0m\n\u001b[1;32m    591\u001b[0m                 \u001b[0mself\u001b[0m\u001b[0;34m.\u001b[0m\u001b[0m_timeout_occurred\u001b[0m \u001b[0;34m=\u001b[0m \u001b[0;32mTrue\u001b[0m\u001b[0;34m\u001b[0m\u001b[0;34m\u001b[0m\u001b[0m\n",
      "\u001b[0;31mKeyboardInterrupt\u001b[0m: "
     ]
    }
   ],
   "source": [
    "adresse = \"51, rue de la harpe Paris\"\n",
    "coord = get_coordonnees(adresse)\n",
    "df = get_station_price(coord)"
   ]
  },
  {
   "cell_type": "code",
   "execution_count": null,
   "metadata": {},
   "outputs": [],
   "source": [
    "print(time.time() - start)"
   ]
  },
  {
   "cell_type": "code",
   "execution_count": null,
   "metadata": {},
   "outputs": [],
   "source": [
    "df = df.drop_duplicates(subset=\"name_station\").reset_index(drop=True)"
   ]
  },
  {
   "cell_type": "code",
   "execution_count": null,
   "metadata": {},
   "outputs": [],
   "source": [
    "df"
   ]
  },
  {
   "cell_type": "code",
   "execution_count": null,
   "metadata": {},
   "outputs": [],
   "source": [
    "#C'était pour enlever les \"(Paris)\" et les \"(Créteil)\", mais inutile en fait\n",
    "#df[\"name_station\"] = df[\"name_station\"].apply(lambda x: re.sub(r\"\\(.*\\)\", \"\", x))"
   ]
  },
  {
   "cell_type": "code",
   "execution_count": null,
   "metadata": {},
   "outputs": [],
   "source": [
    "df = prices.copy()"
   ]
  },
  {
   "cell_type": "code",
   "execution_count": null,
   "metadata": {},
   "outputs": [],
   "source": [
    "df.to_pickle(\"station_price.pkl\")"
   ]
  },
  {
   "cell_type": "markdown",
   "metadata": {},
   "source": [
    "# Load from pkl"
   ]
  },
  {
   "cell_type": "code",
   "execution_count": 8,
   "metadata": {},
   "outputs": [
    {
     "data": {
      "text/html": [
       "<div>\n",
       "<style scoped>\n",
       "    .dataframe tbody tr th:only-of-type {\n",
       "        vertical-align: middle;\n",
       "    }\n",
       "\n",
       "    .dataframe tbody tr th {\n",
       "        vertical-align: top;\n",
       "    }\n",
       "\n",
       "    .dataframe thead th {\n",
       "        text-align: right;\n",
       "    }\n",
       "</style>\n",
       "<table border=\"1\" class=\"dataframe\">\n",
       "  <thead>\n",
       "    <tr style=\"text-align: right;\">\n",
       "      <th></th>\n",
       "      <th>name_station</th>\n",
       "      <th>price</th>\n",
       "      <th>long</th>\n",
       "      <th>lat</th>\n",
       "    </tr>\n",
       "  </thead>\n",
       "  <tbody>\n",
       "    <tr>\n",
       "      <td>0</td>\n",
       "      <td>Maubert-Mutualité (Paris)</td>\n",
       "      <td>11196.177547</td>\n",
       "      <td>2.348926</td>\n",
       "      <td>48.849717</td>\n",
       "    </tr>\n",
       "    <tr>\n",
       "      <td>1</td>\n",
       "      <td>Cité (Paris)</td>\n",
       "      <td>13998.734033</td>\n",
       "      <td>2.346203</td>\n",
       "      <td>48.855685</td>\n",
       "    </tr>\n",
       "    <tr>\n",
       "      <td>2</td>\n",
       "      <td>Les Écoles (Paris)</td>\n",
       "      <td>11939.299414</td>\n",
       "      <td>2.342103</td>\n",
       "      <td>48.849789</td>\n",
       "    </tr>\n",
       "    <tr>\n",
       "      <td>3</td>\n",
       "      <td>Saint-Michel - Saint-Germain (Paris)</td>\n",
       "      <td>11202.852386</td>\n",
       "      <td>2.344296</td>\n",
       "      <td>48.853483</td>\n",
       "    </tr>\n",
       "    <tr>\n",
       "      <td>4</td>\n",
       "      <td>Dante (Paris)</td>\n",
       "      <td>11111.821641</td>\n",
       "      <td>2.345984</td>\n",
       "      <td>48.850598</td>\n",
       "    </tr>\n",
       "    <tr>\n",
       "      <td>...</td>\n",
       "      <td>...</td>\n",
       "      <td>...</td>\n",
       "      <td>...</td>\n",
       "      <td>...</td>\n",
       "    </tr>\n",
       "    <tr>\n",
       "      <td>5324</td>\n",
       "      <td>Église (Saint-Mard)</td>\n",
       "      <td>2938.777037</td>\n",
       "      <td>2.691614</td>\n",
       "      <td>49.036558</td>\n",
       "    </tr>\n",
       "    <tr>\n",
       "      <td>5325</td>\n",
       "      <td>Avenue de la Gare (Saint-Mard)</td>\n",
       "      <td>2654.179736</td>\n",
       "      <td>2.69616</td>\n",
       "      <td>49.033893</td>\n",
       "    </tr>\n",
       "    <tr>\n",
       "      <td>5326</td>\n",
       "      <td>Paul Langevin (Garges-lès-Gonesse)</td>\n",
       "      <td>2337.620941</td>\n",
       "      <td>2.411453</td>\n",
       "      <td>48.977373</td>\n",
       "    </tr>\n",
       "    <tr>\n",
       "      <td>5327</td>\n",
       "      <td>Université Paris 8 (Saint-Denis)</td>\n",
       "      <td>9578.936953</td>\n",
       "      <td>2.365061</td>\n",
       "      <td>48.94638</td>\n",
       "    </tr>\n",
       "    <tr>\n",
       "      <td>5328</td>\n",
       "      <td>Les Lilas (Soisy-sur-Seine)</td>\n",
       "      <td>3696.631279</td>\n",
       "      <td>2.445093</td>\n",
       "      <td>48.650733</td>\n",
       "    </tr>\n",
       "  </tbody>\n",
       "</table>\n",
       "<p>5329 rows × 4 columns</p>\n",
       "</div>"
      ],
      "text/plain": [
       "                              name_station         price      long        lat\n",
       "0                Maubert-Mutualité (Paris)  11196.177547  2.348926  48.849717\n",
       "1                             Cité (Paris)  13998.734033  2.346203  48.855685\n",
       "2                       Les Écoles (Paris)  11939.299414  2.342103  48.849789\n",
       "3     Saint-Michel - Saint-Germain (Paris)  11202.852386  2.344296  48.853483\n",
       "4                            Dante (Paris)  11111.821641  2.345984  48.850598\n",
       "...                                    ...           ...       ...        ...\n",
       "5324                   Église (Saint-Mard)   2938.777037  2.691614  49.036558\n",
       "5325        Avenue de la Gare (Saint-Mard)   2654.179736   2.69616  49.033893\n",
       "5326    Paul Langevin (Garges-lès-Gonesse)   2337.620941  2.411453  48.977373\n",
       "5327      Université Paris 8 (Saint-Denis)   9578.936953  2.365061   48.94638\n",
       "5328           Les Lilas (Soisy-sur-Seine)   3696.631279  2.445093  48.650733\n",
       "\n",
       "[5329 rows x 4 columns]"
      ]
     },
     "execution_count": 8,
     "metadata": {},
     "output_type": "execute_result"
    }
   ],
   "source": [
    "prices = pd.read_pickle('data/station_price_full.pkl')\n",
    "prices"
   ]
  },
  {
   "cell_type": "code",
   "execution_count": null,
   "metadata": {},
   "outputs": [],
   "source": [
    "def get_station(coordonnees, temps_max=500) :\n",
    "    navitia_url = str('https://api.navitia.io/v1/coverage/fr-idf/journeys?from='\n",
    "                      +str(coordonnees[0])+';'+str(coordonnees[1])\n",
    "                      +'&max_duration='+str(temps_max))+\"&allowed_id[]=physical_mode:Metro&allowed_id[]=physical_mode:RER\"\n",
    "    navitia_token = '4e8a1312-13a2-4fb8-9e98-aa9cd51b6a11'\n",
    "    time_json = requests.get(navitia_url, headers={'Authorization': navitia_token})\n",
    "    time = ''\n",
    "    for line in time_json :\n",
    "        time += line.decode().strip()\n",
    "    dictio = json.loads(time)\n",
    "    \n",
    "    name_station, duration, price, coord_station, long, lat = [[] for i in range(6)]\n",
    "    \n",
    "    for i in range(len(dictio[\"journeys\"])):\n",
    "        name_station.append(dictio[\"journeys\"][i][\"to\"][\"name\"])\n",
    "        duration.append(round(dictio[\"journeys\"][i][\"duration\"]/60, 1))\n",
    "        long.append(dictio[\"journeys\"][i][\"to\"][\"stop_point\"][\"coord\"][\"lon\"])\n",
    "        lat.append(dictio[\"journeys\"][i][\"to\"][\"stop_point\"][\"coord\"][\"lat\"])\n",
    "        \n",
    "        if name_station[-1] in prices.name_station.tolist():\n",
    "            price.append(prices[prices[\"name_station\"]== name_station[-1]].iloc[0]['price'])\n",
    "        else : \n",
    "            price.append(np.nan)\n",
    "        \n",
    "    coord_station = [invert_coord(coord) for coord in coord_station]\n",
    "        \n",
    "    df = pd.DataFrame(list(zip(name_station, duration, price, long, lat)),\n",
    "                      columns=[\"name_station\", \"duration\", \"price\", \"long\", \"lat\"])\n",
    "    return(df)"
   ]
  },
  {
   "cell_type": "markdown",
   "metadata": {},
   "source": [
    "<div class=\"alert alert-info\">\n",
    "Le fameux test"
   ]
  },
  {
   "cell_type": "code",
   "execution_count": null,
   "metadata": {},
   "outputs": [],
   "source": [
    "start = time.time()"
   ]
  },
  {
   "cell_type": "code",
   "execution_count": null,
   "metadata": {},
   "outputs": [],
   "source": [
    "adresse = \"51, rue de la harpe Paris\"\n",
    "coord = get_coordonnees(adresse)\n",
    "df = get_station(coord)"
   ]
  },
  {
   "cell_type": "code",
   "execution_count": null,
   "metadata": {},
   "outputs": [],
   "source": [
    "print(time.time() - start)"
   ]
  },
  {
   "cell_type": "code",
   "execution_count": null,
   "metadata": {},
   "outputs": [],
   "source": [
    "df.head()"
   ]
  },
  {
   "cell_type": "code",
   "execution_count": null,
   "metadata": {},
   "outputs": [],
   "source": []
  },
  {
   "cell_type": "code",
   "execution_count": null,
   "metadata": {},
   "outputs": [],
   "source": []
  }
 ],
 "metadata": {
  "kernelspec": {
   "display_name": "Python 3",
   "language": "python",
   "name": "python3"
  },
  "language_info": {
   "codemirror_mode": {
    "name": "ipython",
    "version": 3
   },
   "file_extension": ".py",
   "mimetype": "text/x-python",
   "name": "python",
   "nbconvert_exporter": "python",
   "pygments_lexer": "ipython3",
   "version": "3.7.4"
  }
 },
 "nbformat": 4,
 "nbformat_minor": 2
}
