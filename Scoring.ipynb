{
 "cells": [
  {
   "cell_type": "markdown",
   "metadata": {},
   "source": [
    "# Modèles de scoring"
   ]
  },
  {
   "cell_type": "markdown",
   "metadata": {},
   "source": [
    "Pour le moment j'ai juste fait une moyenne géométrique des deux scores de durée et de prix, qui sont assez similaires.  \n",
    "Comme on a un pb avec les vraies valeurs des stations j'ai fait une simulation-test stochastique, mais de toute façon il faudra aussi mettre les prix à l'échelle, pour passer des prix du mètre carré à l'achat au prix au mètre carré à la location, je sais pas bien comment faire encore.\n",
    "\n",
    "Les deux modèles de score prennent en entrée une valeur souhaitée par l'utilisateur (duration_moyen ou price_moyen), qui sert ensuite à attribuer un score à la station en fonction de son prix et de son éloignement (duration).  \n",
    "J'ai choisi une simple gaussienne, mais on pourra affiner si besoin.  J'ai mis un plateau pour les valeurs extrêmes à gauche, parce que entre 0 et 15min pour aller au taf, ben ça fait pas une grosse diff, on va surtout départager par rapport au prix dans ces cas-là. On pourra affiner si besoin.\n",
    "\n"
   ]
  },
  {
   "cell_type": "markdown",
   "metadata": {},
   "source": [
    "### Score Duration"
   ]
  },
  {
   "cell_type": "markdown",
   "metadata": {},
   "source": [
    "On adopte le modèle suivant : \n",
    "$$ score_{duration}\\big(duration, temps_{moyen}\\big) = \\begin{cases}1 &\\text{si duration <= temps_moyen}\\\\\n",
    "                                                        \\mathcal{N}(\\mu,\\sigma²)&sinon\n",
    "                                            \\end{cases}$$\n",
    "Avec : \n",
    "$$\\mu = 0.2 \\times temps_{moyen}$$\n",
    "$$\\sigma = 0.7 \\times temps_{moyen}$$"
   ]
  },
  {
   "cell_type": "markdown",
   "metadata": {},
   "source": [
    "<div class=\"alert alert-danger\">\n",
    "J'ai mis $\\mu = 0.1$ et $\\sigma = 0.4$ pour bien différencier le score même avec très peu de stations, car on peut pas encore filtrer leur nombre."
   ]
  },
  {
   "cell_type": "code",
   "execution_count": 1,
   "metadata": {},
   "outputs": [],
   "source": [
    "import numpy as np\n",
    "from scipy.stats import norm\n",
    "def score_duration(duration, temps_moyen=30):\n",
    "    mu = temps_moyen*0.2\n",
    "    sigma = temps_moyen*0.7\n",
    "    if duration <= mu:\n",
    "        score = 1\n",
    "        return(score)\n",
    "    else:\n",
    "        score = norm.pdf(duration, mu, sigma)*np.sqrt(2*np.pi)*sigma\n",
    "        return(score)"
   ]
  },
  {
   "cell_type": "code",
   "execution_count": 2,
   "metadata": {},
   "outputs": [
    {
     "data": {
      "text/plain": [
       "[<matplotlib.lines.Line2D at 0x1a19cc95d0>]"
      ]
     },
     "execution_count": 2,
     "metadata": {},
     "output_type": "execute_result"
    }
   ],
   "source": [
    "import matplotlib.pyplot as plt\n",
    "points = [x for x in range(60)]\n",
    "scores = [score_duration(x) for x in points]\n",
    "plt.plot(points, scores)"
   ]
  },
  {
   "cell_type": "markdown",
   "metadata": {},
   "source": [
    "### Score Price"
   ]
  },
  {
   "cell_type": "markdown",
   "metadata": {},
   "source": [
    "On adopte le modèle suivant : \n",
    "$$ score_{price}\\big(price, price_{moyen}\\big) = \\begin{cases}1 &\\text{si price <= price_moyen}\\\\\n",
    "                                                        \\mathcal{N}(\\mu,\\sigma²)&sinon\n",
    "                                            \\end{cases}$$\n",
    "Avec : \n",
    "$$\\mu = 0.6 \\times price_{moyen}$$\n",
    "$$\\sigma = 0.3 \\times price_{moyen}$$"
   ]
  },
  {
   "cell_type": "code",
   "execution_count": 3,
   "metadata": {},
   "outputs": [],
   "source": [
    "from scipy.stats import norm\n",
    "def score_price(price, price_moyen=10*10**3):\n",
    "    mu = price_moyen*0.6\n",
    "    sigma = price_moyen*0.3\n",
    "    if price <= mu:\n",
    "        score = 1\n",
    "        return(score)\n",
    "    else:\n",
    "        score = norm.pdf(price, mu, sigma)*np.sqrt(2*np.pi)*sigma\n",
    "        return(score)"
   ]
  },
  {
   "cell_type": "code",
   "execution_count": 4,
   "metadata": {},
   "outputs": [
    {
     "data": {
      "text/plain": [
       "[<matplotlib.lines.Line2D at 0x1a19d79bd0>]"
      ]
     },
     "execution_count": 4,
     "metadata": {},
     "output_type": "execute_result"
    },
    {
     "data": {
      "image/png": "[encoded data removed]",
      "text/plain": [
       "<Figure size 432x288 with 1 Axes>"
      ]
     },
     "metadata": {
      "needs_background": "light"
     },
     "output_type": "display_data"
    }
   ],
   "source": [
    "import matplotlib.pyplot as plt\n",
    "points = [x*100 for x in range(50,150)]\n",
    "scores = [score_price(x) for x in points]\n",
    "plt.plot(points, scores)"
   ]
  },
  {
   "cell_type": "markdown",
   "metadata": {},
   "source": [
    "### Score Station"
   ]
  },
  {
   "cell_type": "markdown",
   "metadata": {},
   "source": [
    "SOIT :  \n",
    "Moyenne RMSE :\n",
    "$$ score_{station} = \\sqrt{ score_{price}² + score_{duration}² }$$\n",
    "\n",
    "SOIT :  \n",
    "Moyenne Harmonique :\n",
    "$$ score_{station} = \\frac{score_{price} \\times score_{duration}}{score_{price} + score_{duration}} = \\frac{1}{\\frac{1}{score_{price}} + \\frac{1}{score_{duration}} }$$"
   ]
  },
  {
   "cell_type": "code",
   "execution_count": 5,
   "metadata": {},
   "outputs": [],
   "source": [
    "def score_station(duration, price, temps_moyen=30, price_moyen=11*10**3, scoring='harmonic'):\n",
    "    score_prix = score_price(price, price_moyen)\n",
    "    score_duree = score_duration(duration, temps_moyen)\n",
    "    if scoring == 'rmse':\n",
    "        return(np.sqrt(score_prix**2 + score_duree**2)/1.4142)\n",
    "    else :\n",
    "        return(np.sqrt((score_prix*score_duree*2)/(score_prix+score_duree)))"
   ]
  },
  {
   "cell_type": "markdown",
   "metadata": {},
   "source": [
    "### Score All"
   ]
  },
  {
   "cell_type": "code",
   "execution_count": 6,
   "metadata": {},
   "outputs": [],
   "source": [
    "def score_all(liste_duration, liste_prix, temps_moyen=30, price_moyen=10*10**3, scoring='harmonic'):\n",
    "    scores = []\n",
    "    for prix, duree in zip(liste_prix, liste_duration):\n",
    "        scores.append(score_station(duree, prix, temps_moyen, price_moyen, scoring))\n",
    "    return(scores)"
   ]
  },
  {
   "cell_type": "markdown",
   "metadata": {},
   "source": [
    "# Exemple, comparaison des deux modèles :"
   ]
  },
  {
   "cell_type": "markdown",
   "metadata": {},
   "source": [
    "### Pour une durée de 30min"
   ]
  },
  {
   "cell_type": "code",
   "execution_count": 7,
   "metadata": {},
   "outputs": [],
   "source": [
    "n = 10\n",
    "durations = [30]*n\n",
    "prices = np.linspace(5,15, n)*1000"
   ]
  },
  {
   "cell_type": "code",
   "execution_count": 8,
   "metadata": {},
   "outputs": [
    {
     "data": {
      "text/plain": [
       "[<matplotlib.lines.Line2D at 0x1a19eaad90>]"
      ]
     },
     "execution_count": 8,
     "metadata": {},
     "output_type": "execute_result"
    },
    {
     "data": {
      "image/png": "[encoded data removed]",
      "text/plain": [
       "<Figure size 432x288 with 1 Axes>"
      ]
     },
     "metadata": {
      "needs_background": "light"
     },
     "output_type": "display_data"
    }
   ],
   "source": [
    "import matplotlib.pyplot as plt\n",
    "scores = score_all(durations, prices, scoring='rmse')\n",
    "plt.plot(prices, scores)"
   ]
  },
  {
   "cell_type": "code",
   "execution_count": 9,
   "metadata": {},
   "outputs": [
    {
     "data": {
      "text/plain": [
       "[<matplotlib.lines.Line2D at 0x1a19f0ff50>]"
      ]
     },
     "execution_count": 9,
     "metadata": {},
     "output_type": "execute_result"
    },
    {
     "data": {
      "image/png": "[encoded data removed]",
      "text/plain": [
       "<Figure size 432x288 with 1 Axes>"
      ]
     },
     "metadata": {
      "needs_background": "light"
     },
     "output_type": "display_data"
    }
   ],
   "source": [
    "import matplotlib.pyplot as plt\n",
    "scores = score_all(durations, prices, scoring='harmonic')\n",
    "plt.plot(prices, scores)"
   ]
  },
  {
   "cell_type": "markdown",
   "metadata": {},
   "source": [
    "### Pour une durée de 10 min :"
   ]
  },
  {
   "cell_type": "code",
   "execution_count": 10,
   "metadata": {},
   "outputs": [],
   "source": [
    "n = 10\n",
    "durations = [10]*n\n",
    "prices = np.linspace(5,15, n)*1000"
   ]
  },
  {
   "cell_type": "code",
   "execution_count": 11,
   "metadata": {},
   "outputs": [
    {
     "data": {
      "text/plain": [
       "[<matplotlib.lines.Line2D at 0x1a1a0529d0>]"
      ]
     },
     "execution_count": 11,
     "metadata": {},
     "output_type": "execute_result"
    },
    {
     "data": {
      "image/png": "[encoded data removed]",
      "text/plain": [
       "<Figure size 432x288 with 1 Axes>"
      ]
     },
     "metadata": {
      "needs_background": "light"
     },
     "output_type": "display_data"
    }
   ],
   "source": [
    "import matplotlib.pyplot as plt\n",
    "scores = score_all(durations, prices, scoring='rmse')\n",
    "plt.plot(prices, scores)"
   ]
  },
  {
   "cell_type": "code",
   "execution_count": 12,
   "metadata": {
    "scrolled": true
   },
   "outputs": [
    {
     "data": {
      "text/plain": [
       "[<matplotlib.lines.Line2D at 0x1a1a131110>]"
      ]
     },
     "execution_count": 12,
     "metadata": {},
     "output_type": "execute_result"
    },
    {
     "data": {
      "image/png": "[encoded data removed]",
      "text/plain": [
       "<Figure size 432x288 with 1 Axes>"
      ]
     },
     "metadata": {
      "needs_background": "light"
     },
     "output_type": "display_data"
    }
   ],
   "source": [
    "import matplotlib.pyplot as plt\n",
    "scores = score_all(durations, prices, scoring='harmonic')\n",
    "plt.plot(prices, scores)"
   ]
  },
  {
   "cell_type": "markdown",
   "metadata": {},
   "source": [
    "### Pour une durée de 60 min"
   ]
  },
  {
   "cell_type": "code",
   "execution_count": 13,
   "metadata": {},
   "outputs": [],
   "source": [
    "n = 10\n",
    "durations = [60]*n\n",
    "prices = np.linspace(5,15, n)*1000"
   ]
  },
  {
   "cell_type": "code",
   "execution_count": 14,
   "metadata": {},
   "outputs": [
    {
     "data": {
      "text/plain": [
       "[<matplotlib.lines.Line2D at 0x1a1a1971d0>]"
      ]
     },
     "execution_count": 14,
     "metadata": {},
     "output_type": "execute_result"
    },
    {
     "data": {
      "image/png": "[encoded data removed]",
      "text/plain": [
       "<Figure size 432x288 with 1 Axes>"
      ]
     },
     "metadata": {
      "needs_background": "light"
     },
     "output_type": "display_data"
    }
   ],
   "source": [
    "import matplotlib.pyplot as plt\n",
    "scores = score_all(durations, prices, scoring='rmse')\n",
    "plt.plot(prices, scores)"
   ]
  },
  {
   "cell_type": "code",
   "execution_count": 15,
   "metadata": {},
   "outputs": [
    {
     "data": {
      "text/plain": [
       "[<matplotlib.lines.Line2D at 0x1a1a2d7150>]"
      ]
     },
     "execution_count": 15,
     "metadata": {},
     "output_type": "execute_result"
    },
    {
     "data": {
      "image/png": "[encoded data removed]",
      "text/plain": [
       "<Figure size 432x288 with 1 Axes>"
      ]
     },
     "metadata": {
      "needs_background": "light"
     },
     "output_type": "display_data"
    }
   ],
   "source": [
    "#Bien voir que le max est à 0.07, soit quasi zéro...\n",
    "import matplotlib.pyplot as plt\n",
    "scores = score_all(durations, prices, scoring='harmonic')\n",
    "plt.plot(prices, scores)"
   ]
  },
  {
   "cell_type": "markdown",
   "metadata": {},
   "source": [
    "<div class=\"alert alert-info\">\n",
    "\n",
    "**Pour les cas extrêmes, la moyenne harmonique est bien mieux**, car elle évite un certain effet \"plancher\".\n",
    "Au delà d'un seuil (zéro), une des caractéristiques n'a plus de poids en RMSE:  \n",
    "Si une station est très éloignée, son score de temps sera de 0, mais son score total peut quand même être assez bon si le prix a un score de 1. Donc on peut de retrouver avec des moyennes à $\\sqrt{ 1^2 + 0^2} = 1$ alors que la station ests hyper hyper loin.  Cela ne reflète pas sa véritable attractivité...  \n",
    "\n",
    "A l'inverse, un score de 0 en temps donnera un score de 0 pour la moyenne harmonique, ce qui est bien plus fidèle."
   ]
  },
  {
   "cell_type": "code",
   "execution_count": null,
   "metadata": {},
   "outputs": [],
   "source": []
  },
  {
   "cell_type": "code",
   "execution_count": null,
   "metadata": {},
   "outputs": [],
   "source": []
  },
  {
   "cell_type": "code",
   "execution_count": null,
   "metadata": {},
   "outputs": [],
   "source": []
  }
 ],
 "metadata": {
  "kernelspec": {
   "display_name": "Python 3",
   "language": "python",
   "name": "python3"
  },
  "language_info": {
   "codemirror_mode": {
    "name": "ipython",
    "version": 3
   },
   "file_extension": ".py",
   "mimetype": "text/x-python",
   "name": "python",
   "nbconvert_exporter": "python",
   "pygments_lexer": "ipython3",
   "version": "3.6.9"
  }
 },
 "nbformat": 4,
 "nbformat_minor": 2
}
